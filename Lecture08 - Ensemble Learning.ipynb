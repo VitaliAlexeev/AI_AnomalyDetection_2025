{
 "cells": [
  {
   "cell_type": "markdown",
   "id": "1e2cd96b-9887-49a5-9448-bba9f7393104",
   "metadata": {},
   "source": [
    "# Ensemble Learning on California Housing Data\n",
    "\n",
    "The script demonstrates **bagging**, **boosting**, and **stacking** using the California Housing dataset. This will help clarify these ensemble learning concepts through practical application."
   ]
  },
  {
   "cell_type": "markdown",
   "id": "ad5150ba-2b79-42ec-b329-5858e6b40a82",
   "metadata": {},
   "source": [
    "## Load libraries"
   ]
  },
  {
   "cell_type": "code",
   "execution_count": 6,
   "id": "4027cf91-1533-452c-83b5-62b04ff47f48",
   "metadata": {},
   "outputs": [],
   "source": [
    "import numpy as np\n",
    "import pandas as pd\n",
    "import matplotlib.pyplot as plt\n",
    "from sklearn.model_selection import train_test_split, cross_val_score\n",
    "from sklearn.metrics import mean_squared_error, r2_score\n",
    "from sklearn.preprocessing import StandardScaler\n",
    "from sklearn.linear_model import LinearRegression\n",
    "from sklearn.tree import DecisionTreeRegressor\n",
    "from sklearn.svm import SVR\n",
    "from sklearn.ensemble import (\n",
    "    RandomForestRegressor,  # Bagging example\n",
    "    GradientBoostingRegressor,  # Boosting example\n",
    "    AdaBoostRegressor,  # Another boosting example\n",
    "    BaggingRegressor  # Explicit bagging\n",
    ")\n",
    "from sklearn.ensemble import StackingRegressor  # Stacking\n",
    "import time\n",
    "from sklearn.datasets import fetch_california_housing"
   ]
  },
  {
   "cell_type": "markdown",
   "id": "bfe1a6e7-d7c5-4670-96ed-ff1cfbfefa9f",
   "metadata": {},
   "source": [
    "## Load data"
   ]
  },
  {
   "cell_type": "code",
   "execution_count": 8,
   "id": "cd233466-5cb3-4f63-9686-1e2f2ccabac1",
   "metadata": {},
   "outputs": [],
   "source": [
    "housing = fetch_california_housing()\n",
    "data = pd.DataFrame(housing.data, columns=housing.feature_names)\n",
    "X = pd.DataFrame(data=housing['data'], columns=housing['feature_names'])\n",
    "y = housing['target']"
   ]
  },
  {
   "cell_type": "markdown",
   "id": "e1564439-401f-4da0-8247-3b21a816453e",
   "metadata": {},
   "source": [
    "## Pre-process data"
   ]
  },
  {
   "cell_type": "code",
   "execution_count": 10,
   "id": "c67d5b16-da99-4156-b19e-4040ddbd4f2a",
   "metadata": {},
   "outputs": [],
   "source": [
    "# Let's split the data into training and testing sets\n",
    "X_train, X_test, y_train, y_test = train_test_split(X, y, test_size=0.2, random_state=42)"
   ]
  },
  {
   "cell_type": "code",
   "execution_count": 12,
   "id": "ecc6eaf5-3bf0-41ab-bd9e-7e4ed7350d6d",
   "metadata": {},
   "outputs": [],
   "source": [
    "# Feature scaling\n",
    "scaler = StandardScaler()\n",
    "X_train_scaled = scaler.fit_transform(X_train)\n",
    "X_test_scaled = scaler.transform(X_test)"
   ]
  },
  {
   "cell_type": "code",
   "execution_count": 14,
   "id": "c4e8ca17-ad3c-45cb-ab3e-ce4ef5fd3694",
   "metadata": {},
   "outputs": [],
   "source": [
    "# Dictionary to store results\n",
    "results = {}"
   ]
  },
  {
   "cell_type": "code",
   "execution_count": 16,
   "id": "8fd52ab4-1291-404c-a132-922f44840197",
   "metadata": {},
   "outputs": [
    {
     "name": "stdout",
     "output_type": "stream",
     "text": [
      "California Housing Dataset Analysis with Ensemble Methods\n",
      "Training set size: (16512, 8)\n",
      "Test set size: (4128, 8)\n",
      "--------------------------------------------------\n"
     ]
    }
   ],
   "source": [
    "print(\"California Housing Dataset Analysis with Ensemble Methods\")\n",
    "print(f\"Training set size: {X_train.shape}\")\n",
    "print(f\"Test set size: {X_test.shape}\")\n",
    "print(\"-\" * 50)"
   ]
  },
  {
   "cell_type": "code",
   "execution_count": 18,
   "id": "d07b2ef8-fa46-4ae0-bdfc-704d088d34ae",
   "metadata": {},
   "outputs": [],
   "source": [
    "# Helper function to evaluate and store model results\n",
    "def evaluate_model(model, name, X_train, y_train, X_test, y_test):\n",
    "    start_time = time.time()\n",
    "    model.fit(X_train, y_train)\n",
    "    train_time = time.time() - start_time\n",
    "    \n",
    "    # Predictions\n",
    "    y_pred = model.predict(X_test)\n",
    "    \n",
    "    # Calculate metrics\n",
    "    mse = mean_squared_error(y_test, y_pred)\n",
    "    rmse = np.sqrt(mse)\n",
    "    r2 = r2_score(y_test, y_pred)\n",
    "    \n",
    "    # Store results\n",
    "    results[name] = {\n",
    "        'model': model,\n",
    "        'RMSE': rmse,\n",
    "        'R2': r2,\n",
    "        'Training Time': train_time,\n",
    "        'predictions': y_pred\n",
    "    }\n",
    "    \n",
    "    print(f\"{name} - RMSE: {rmse:.4f}, R2: {r2:.4f}, Training Time: {train_time:.2f}s\")\n",
    "    return model"
   ]
  },
  {
   "cell_type": "markdown",
   "id": "baf69a8e-8243-4da0-a7ca-6f76c4eb3443",
   "metadata": {},
   "source": [
    "## Bagging (Bootstrap Aggregating)\n",
    "\n",
    "- Creates multiple models trained on random subsets of data with replacement.\n",
    "- Combines predictions by averaging (for regression problems)\n",
    "\n",
    "Implemented using:\n",
    "- BaggingRegressor with decision trees as base estimators\n",
    "- RandomForestRegressor (which uses bagging with feature randomization)\n",
    "\n",
    "**Purpose**: Reduces variance and prevents overfitting"
   ]
  },
  {
   "cell_type": "code",
   "execution_count": 20,
   "id": "1e459e0a-b43f-49ce-8199-af13896903f3",
   "metadata": {},
   "outputs": [
    {
     "name": "stdout",
     "output_type": "stream",
     "text": [
      "\n",
      "1. BAGGING METHODS\n",
      "Bagging (Bootstrap Aggregating) builds multiple models on random subsets of data\n",
      "and averages predictions to reduce variance and overfitting.\n",
      "--------------------------------------------------\n"
     ]
    }
   ],
   "source": [
    "# -------------------------------------------------\n",
    "# 1. BAGGING METHODS\n",
    "# -------------------------------------------------\n",
    "print(\"\\n1. BAGGING METHODS\")\n",
    "print(\"Bagging (Bootstrap Aggregating) builds multiple models on random subsets of data\")\n",
    "print(\"and averages predictions to reduce variance and overfitting.\")\n",
    "print(\"-\" * 50)"
   ]
  },
  {
   "cell_type": "code",
   "execution_count": 22,
   "id": "9969ca15-95fc-4324-8fef-88388aabf784",
   "metadata": {},
   "outputs": [
    {
     "name": "stdout",
     "output_type": "stream",
     "text": [
      "Decision Tree (Baseline) - RMSE: 0.7028, R2: 0.6230, Training Time: 0.52s\n"
     ]
    },
    {
     "data": {
      "text/html": [
       "<style>#sk-container-id-1 {\n",
       "  /* Definition of color scheme common for light and dark mode */\n",
       "  --sklearn-color-text: #000;\n",
       "  --sklearn-color-text-muted: #666;\n",
       "  --sklearn-color-line: gray;\n",
       "  /* Definition of color scheme for unfitted estimators */\n",
       "  --sklearn-color-unfitted-level-0: #fff5e6;\n",
       "  --sklearn-color-unfitted-level-1: #f6e4d2;\n",
       "  --sklearn-color-unfitted-level-2: #ffe0b3;\n",
       "  --sklearn-color-unfitted-level-3: chocolate;\n",
       "  /* Definition of color scheme for fitted estimators */\n",
       "  --sklearn-color-fitted-level-0: #f0f8ff;\n",
       "  --sklearn-color-fitted-level-1: #d4ebff;\n",
       "  --sklearn-color-fitted-level-2: #b3dbfd;\n",
       "  --sklearn-color-fitted-level-3: cornflowerblue;\n",
       "\n",
       "  /* Specific color for light theme */\n",
       "  --sklearn-color-text-on-default-background: var(--sg-text-color, var(--theme-code-foreground, var(--jp-content-font-color1, black)));\n",
       "  --sklearn-color-background: var(--sg-background-color, var(--theme-background, var(--jp-layout-color0, white)));\n",
       "  --sklearn-color-border-box: var(--sg-text-color, var(--theme-code-foreground, var(--jp-content-font-color1, black)));\n",
       "  --sklearn-color-icon: #696969;\n",
       "\n",
       "  @media (prefers-color-scheme: dark) {\n",
       "    /* Redefinition of color scheme for dark theme */\n",
       "    --sklearn-color-text-on-default-background: var(--sg-text-color, var(--theme-code-foreground, var(--jp-content-font-color1, white)));\n",
       "    --sklearn-color-background: var(--sg-background-color, var(--theme-background, var(--jp-layout-color0, #111)));\n",
       "    --sklearn-color-border-box: var(--sg-text-color, var(--theme-code-foreground, var(--jp-content-font-color1, white)));\n",
       "    --sklearn-color-icon: #878787;\n",
       "  }\n",
       "}\n",
       "\n",
       "#sk-container-id-1 {\n",
       "  color: var(--sklearn-color-text);\n",
       "}\n",
       "\n",
       "#sk-container-id-1 pre {\n",
       "  padding: 0;\n",
       "}\n",
       "\n",
       "#sk-container-id-1 input.sk-hidden--visually {\n",
       "  border: 0;\n",
       "  clip: rect(1px 1px 1px 1px);\n",
       "  clip: rect(1px, 1px, 1px, 1px);\n",
       "  height: 1px;\n",
       "  margin: -1px;\n",
       "  overflow: hidden;\n",
       "  padding: 0;\n",
       "  position: absolute;\n",
       "  width: 1px;\n",
       "}\n",
       "\n",
       "#sk-container-id-1 div.sk-dashed-wrapped {\n",
       "  border: 1px dashed var(--sklearn-color-line);\n",
       "  margin: 0 0.4em 0.5em 0.4em;\n",
       "  box-sizing: border-box;\n",
       "  padding-bottom: 0.4em;\n",
       "  background-color: var(--sklearn-color-background);\n",
       "}\n",
       "\n",
       "#sk-container-id-1 div.sk-container {\n",
       "  /* jupyter's `normalize.less` sets `[hidden] { display: none; }`\n",
       "     but bootstrap.min.css set `[hidden] { display: none !important; }`\n",
       "     so we also need the `!important` here to be able to override the\n",
       "     default hidden behavior on the sphinx rendered scikit-learn.org.\n",
       "     See: https://github.com/scikit-learn/scikit-learn/issues/21755 */\n",
       "  display: inline-block !important;\n",
       "  position: relative;\n",
       "}\n",
       "\n",
       "#sk-container-id-1 div.sk-text-repr-fallback {\n",
       "  display: none;\n",
       "}\n",
       "\n",
       "div.sk-parallel-item,\n",
       "div.sk-serial,\n",
       "div.sk-item {\n",
       "  /* draw centered vertical line to link estimators */\n",
       "  background-image: linear-gradient(var(--sklearn-color-text-on-default-background), var(--sklearn-color-text-on-default-background));\n",
       "  background-size: 2px 100%;\n",
       "  background-repeat: no-repeat;\n",
       "  background-position: center center;\n",
       "}\n",
       "\n",
       "/* Parallel-specific style estimator block */\n",
       "\n",
       "#sk-container-id-1 div.sk-parallel-item::after {\n",
       "  content: \"\";\n",
       "  width: 100%;\n",
       "  border-bottom: 2px solid var(--sklearn-color-text-on-default-background);\n",
       "  flex-grow: 1;\n",
       "}\n",
       "\n",
       "#sk-container-id-1 div.sk-parallel {\n",
       "  display: flex;\n",
       "  align-items: stretch;\n",
       "  justify-content: center;\n",
       "  background-color: var(--sklearn-color-background);\n",
       "  position: relative;\n",
       "}\n",
       "\n",
       "#sk-container-id-1 div.sk-parallel-item {\n",
       "  display: flex;\n",
       "  flex-direction: column;\n",
       "}\n",
       "\n",
       "#sk-container-id-1 div.sk-parallel-item:first-child::after {\n",
       "  align-self: flex-end;\n",
       "  width: 50%;\n",
       "}\n",
       "\n",
       "#sk-container-id-1 div.sk-parallel-item:last-child::after {\n",
       "  align-self: flex-start;\n",
       "  width: 50%;\n",
       "}\n",
       "\n",
       "#sk-container-id-1 div.sk-parallel-item:only-child::after {\n",
       "  width: 0;\n",
       "}\n",
       "\n",
       "/* Serial-specific style estimator block */\n",
       "\n",
       "#sk-container-id-1 div.sk-serial {\n",
       "  display: flex;\n",
       "  flex-direction: column;\n",
       "  align-items: center;\n",
       "  background-color: var(--sklearn-color-background);\n",
       "  padding-right: 1em;\n",
       "  padding-left: 1em;\n",
       "}\n",
       "\n",
       "\n",
       "/* Toggleable style: style used for estimator/Pipeline/ColumnTransformer box that is\n",
       "clickable and can be expanded/collapsed.\n",
       "- Pipeline and ColumnTransformer use this feature and define the default style\n",
       "- Estimators will overwrite some part of the style using the `sk-estimator` class\n",
       "*/\n",
       "\n",
       "/* Pipeline and ColumnTransformer style (default) */\n",
       "\n",
       "#sk-container-id-1 div.sk-toggleable {\n",
       "  /* Default theme specific background. It is overwritten whether we have a\n",
       "  specific estimator or a Pipeline/ColumnTransformer */\n",
       "  background-color: var(--sklearn-color-background);\n",
       "}\n",
       "\n",
       "/* Toggleable label */\n",
       "#sk-container-id-1 label.sk-toggleable__label {\n",
       "  cursor: pointer;\n",
       "  display: flex;\n",
       "  width: 100%;\n",
       "  margin-bottom: 0;\n",
       "  padding: 0.5em;\n",
       "  box-sizing: border-box;\n",
       "  text-align: center;\n",
       "  align-items: start;\n",
       "  justify-content: space-between;\n",
       "  gap: 0.5em;\n",
       "}\n",
       "\n",
       "#sk-container-id-1 label.sk-toggleable__label .caption {\n",
       "  font-size: 0.6rem;\n",
       "  font-weight: lighter;\n",
       "  color: var(--sklearn-color-text-muted);\n",
       "}\n",
       "\n",
       "#sk-container-id-1 label.sk-toggleable__label-arrow:before {\n",
       "  /* Arrow on the left of the label */\n",
       "  content: \"▸\";\n",
       "  float: left;\n",
       "  margin-right: 0.25em;\n",
       "  color: var(--sklearn-color-icon);\n",
       "}\n",
       "\n",
       "#sk-container-id-1 label.sk-toggleable__label-arrow:hover:before {\n",
       "  color: var(--sklearn-color-text);\n",
       "}\n",
       "\n",
       "/* Toggleable content - dropdown */\n",
       "\n",
       "#sk-container-id-1 div.sk-toggleable__content {\n",
       "  max-height: 0;\n",
       "  max-width: 0;\n",
       "  overflow: hidden;\n",
       "  text-align: left;\n",
       "  /* unfitted */\n",
       "  background-color: var(--sklearn-color-unfitted-level-0);\n",
       "}\n",
       "\n",
       "#sk-container-id-1 div.sk-toggleable__content.fitted {\n",
       "  /* fitted */\n",
       "  background-color: var(--sklearn-color-fitted-level-0);\n",
       "}\n",
       "\n",
       "#sk-container-id-1 div.sk-toggleable__content pre {\n",
       "  margin: 0.2em;\n",
       "  border-radius: 0.25em;\n",
       "  color: var(--sklearn-color-text);\n",
       "  /* unfitted */\n",
       "  background-color: var(--sklearn-color-unfitted-level-0);\n",
       "}\n",
       "\n",
       "#sk-container-id-1 div.sk-toggleable__content.fitted pre {\n",
       "  /* unfitted */\n",
       "  background-color: var(--sklearn-color-fitted-level-0);\n",
       "}\n",
       "\n",
       "#sk-container-id-1 input.sk-toggleable__control:checked~div.sk-toggleable__content {\n",
       "  /* Expand drop-down */\n",
       "  max-height: 200px;\n",
       "  max-width: 100%;\n",
       "  overflow: auto;\n",
       "}\n",
       "\n",
       "#sk-container-id-1 input.sk-toggleable__control:checked~label.sk-toggleable__label-arrow:before {\n",
       "  content: \"▾\";\n",
       "}\n",
       "\n",
       "/* Pipeline/ColumnTransformer-specific style */\n",
       "\n",
       "#sk-container-id-1 div.sk-label input.sk-toggleable__control:checked~label.sk-toggleable__label {\n",
       "  color: var(--sklearn-color-text);\n",
       "  background-color: var(--sklearn-color-unfitted-level-2);\n",
       "}\n",
       "\n",
       "#sk-container-id-1 div.sk-label.fitted input.sk-toggleable__control:checked~label.sk-toggleable__label {\n",
       "  background-color: var(--sklearn-color-fitted-level-2);\n",
       "}\n",
       "\n",
       "/* Estimator-specific style */\n",
       "\n",
       "/* Colorize estimator box */\n",
       "#sk-container-id-1 div.sk-estimator input.sk-toggleable__control:checked~label.sk-toggleable__label {\n",
       "  /* unfitted */\n",
       "  background-color: var(--sklearn-color-unfitted-level-2);\n",
       "}\n",
       "\n",
       "#sk-container-id-1 div.sk-estimator.fitted input.sk-toggleable__control:checked~label.sk-toggleable__label {\n",
       "  /* fitted */\n",
       "  background-color: var(--sklearn-color-fitted-level-2);\n",
       "}\n",
       "\n",
       "#sk-container-id-1 div.sk-label label.sk-toggleable__label,\n",
       "#sk-container-id-1 div.sk-label label {\n",
       "  /* The background is the default theme color */\n",
       "  color: var(--sklearn-color-text-on-default-background);\n",
       "}\n",
       "\n",
       "/* On hover, darken the color of the background */\n",
       "#sk-container-id-1 div.sk-label:hover label.sk-toggleable__label {\n",
       "  color: var(--sklearn-color-text);\n",
       "  background-color: var(--sklearn-color-unfitted-level-2);\n",
       "}\n",
       "\n",
       "/* Label box, darken color on hover, fitted */\n",
       "#sk-container-id-1 div.sk-label.fitted:hover label.sk-toggleable__label.fitted {\n",
       "  color: var(--sklearn-color-text);\n",
       "  background-color: var(--sklearn-color-fitted-level-2);\n",
       "}\n",
       "\n",
       "/* Estimator label */\n",
       "\n",
       "#sk-container-id-1 div.sk-label label {\n",
       "  font-family: monospace;\n",
       "  font-weight: bold;\n",
       "  display: inline-block;\n",
       "  line-height: 1.2em;\n",
       "}\n",
       "\n",
       "#sk-container-id-1 div.sk-label-container {\n",
       "  text-align: center;\n",
       "}\n",
       "\n",
       "/* Estimator-specific */\n",
       "#sk-container-id-1 div.sk-estimator {\n",
       "  font-family: monospace;\n",
       "  border: 1px dotted var(--sklearn-color-border-box);\n",
       "  border-radius: 0.25em;\n",
       "  box-sizing: border-box;\n",
       "  margin-bottom: 0.5em;\n",
       "  /* unfitted */\n",
       "  background-color: var(--sklearn-color-unfitted-level-0);\n",
       "}\n",
       "\n",
       "#sk-container-id-1 div.sk-estimator.fitted {\n",
       "  /* fitted */\n",
       "  background-color: var(--sklearn-color-fitted-level-0);\n",
       "}\n",
       "\n",
       "/* on hover */\n",
       "#sk-container-id-1 div.sk-estimator:hover {\n",
       "  /* unfitted */\n",
       "  background-color: var(--sklearn-color-unfitted-level-2);\n",
       "}\n",
       "\n",
       "#sk-container-id-1 div.sk-estimator.fitted:hover {\n",
       "  /* fitted */\n",
       "  background-color: var(--sklearn-color-fitted-level-2);\n",
       "}\n",
       "\n",
       "/* Specification for estimator info (e.g. \"i\" and \"?\") */\n",
       "\n",
       "/* Common style for \"i\" and \"?\" */\n",
       "\n",
       ".sk-estimator-doc-link,\n",
       "a:link.sk-estimator-doc-link,\n",
       "a:visited.sk-estimator-doc-link {\n",
       "  float: right;\n",
       "  font-size: smaller;\n",
       "  line-height: 1em;\n",
       "  font-family: monospace;\n",
       "  background-color: var(--sklearn-color-background);\n",
       "  border-radius: 1em;\n",
       "  height: 1em;\n",
       "  width: 1em;\n",
       "  text-decoration: none !important;\n",
       "  margin-left: 0.5em;\n",
       "  text-align: center;\n",
       "  /* unfitted */\n",
       "  border: var(--sklearn-color-unfitted-level-1) 1pt solid;\n",
       "  color: var(--sklearn-color-unfitted-level-1);\n",
       "}\n",
       "\n",
       ".sk-estimator-doc-link.fitted,\n",
       "a:link.sk-estimator-doc-link.fitted,\n",
       "a:visited.sk-estimator-doc-link.fitted {\n",
       "  /* fitted */\n",
       "  border: var(--sklearn-color-fitted-level-1) 1pt solid;\n",
       "  color: var(--sklearn-color-fitted-level-1);\n",
       "}\n",
       "\n",
       "/* On hover */\n",
       "div.sk-estimator:hover .sk-estimator-doc-link:hover,\n",
       ".sk-estimator-doc-link:hover,\n",
       "div.sk-label-container:hover .sk-estimator-doc-link:hover,\n",
       ".sk-estimator-doc-link:hover {\n",
       "  /* unfitted */\n",
       "  background-color: var(--sklearn-color-unfitted-level-3);\n",
       "  color: var(--sklearn-color-background);\n",
       "  text-decoration: none;\n",
       "}\n",
       "\n",
       "div.sk-estimator.fitted:hover .sk-estimator-doc-link.fitted:hover,\n",
       ".sk-estimator-doc-link.fitted:hover,\n",
       "div.sk-label-container:hover .sk-estimator-doc-link.fitted:hover,\n",
       ".sk-estimator-doc-link.fitted:hover {\n",
       "  /* fitted */\n",
       "  background-color: var(--sklearn-color-fitted-level-3);\n",
       "  color: var(--sklearn-color-background);\n",
       "  text-decoration: none;\n",
       "}\n",
       "\n",
       "/* Span, style for the box shown on hovering the info icon */\n",
       ".sk-estimator-doc-link span {\n",
       "  display: none;\n",
       "  z-index: 9999;\n",
       "  position: relative;\n",
       "  font-weight: normal;\n",
       "  right: .2ex;\n",
       "  padding: .5ex;\n",
       "  margin: .5ex;\n",
       "  width: min-content;\n",
       "  min-width: 20ex;\n",
       "  max-width: 50ex;\n",
       "  color: var(--sklearn-color-text);\n",
       "  box-shadow: 2pt 2pt 4pt #999;\n",
       "  /* unfitted */\n",
       "  background: var(--sklearn-color-unfitted-level-0);\n",
       "  border: .5pt solid var(--sklearn-color-unfitted-level-3);\n",
       "}\n",
       "\n",
       ".sk-estimator-doc-link.fitted span {\n",
       "  /* fitted */\n",
       "  background: var(--sklearn-color-fitted-level-0);\n",
       "  border: var(--sklearn-color-fitted-level-3);\n",
       "}\n",
       "\n",
       ".sk-estimator-doc-link:hover span {\n",
       "  display: block;\n",
       "}\n",
       "\n",
       "/* \"?\"-specific style due to the `<a>` HTML tag */\n",
       "\n",
       "#sk-container-id-1 a.estimator_doc_link {\n",
       "  float: right;\n",
       "  font-size: 1rem;\n",
       "  line-height: 1em;\n",
       "  font-family: monospace;\n",
       "  background-color: var(--sklearn-color-background);\n",
       "  border-radius: 1rem;\n",
       "  height: 1rem;\n",
       "  width: 1rem;\n",
       "  text-decoration: none;\n",
       "  /* unfitted */\n",
       "  color: var(--sklearn-color-unfitted-level-1);\n",
       "  border: var(--sklearn-color-unfitted-level-1) 1pt solid;\n",
       "}\n",
       "\n",
       "#sk-container-id-1 a.estimator_doc_link.fitted {\n",
       "  /* fitted */\n",
       "  border: var(--sklearn-color-fitted-level-1) 1pt solid;\n",
       "  color: var(--sklearn-color-fitted-level-1);\n",
       "}\n",
       "\n",
       "/* On hover */\n",
       "#sk-container-id-1 a.estimator_doc_link:hover {\n",
       "  /* unfitted */\n",
       "  background-color: var(--sklearn-color-unfitted-level-3);\n",
       "  color: var(--sklearn-color-background);\n",
       "  text-decoration: none;\n",
       "}\n",
       "\n",
       "#sk-container-id-1 a.estimator_doc_link.fitted:hover {\n",
       "  /* fitted */\n",
       "  background-color: var(--sklearn-color-fitted-level-3);\n",
       "}\n",
       "</style><div id=\"sk-container-id-1\" class=\"sk-top-container\"><div class=\"sk-text-repr-fallback\"><pre>DecisionTreeRegressor(random_state=42)</pre><b>In a Jupyter environment, please rerun this cell to show the HTML representation or trust the notebook. <br />On GitHub, the HTML representation is unable to render, please try loading this page with nbviewer.org.</b></div><div class=\"sk-container\" hidden><div class=\"sk-item\"><div class=\"sk-estimator fitted sk-toggleable\"><input class=\"sk-toggleable__control sk-hidden--visually\" id=\"sk-estimator-id-1\" type=\"checkbox\" checked><label for=\"sk-estimator-id-1\" class=\"sk-toggleable__label fitted sk-toggleable__label-arrow\"><div><div>DecisionTreeRegressor</div></div><div><a class=\"sk-estimator-doc-link fitted\" rel=\"noreferrer\" target=\"_blank\" href=\"https://scikit-learn.org/1.6/modules/generated/sklearn.tree.DecisionTreeRegressor.html\">?<span>Documentation for DecisionTreeRegressor</span></a><span class=\"sk-estimator-doc-link fitted\">i<span>Fitted</span></span></div></label><div class=\"sk-toggleable__content fitted\"><pre>DecisionTreeRegressor(random_state=42)</pre></div> </div></div></div></div>"
      ],
      "text/plain": [
       "DecisionTreeRegressor(random_state=42)"
      ]
     },
     "execution_count": 22,
     "metadata": {},
     "output_type": "execute_result"
    }
   ],
   "source": [
    "# Simple Decision Tree as baseline\n",
    "dt = DecisionTreeRegressor(random_state=42)\n",
    "evaluate_model(dt, \"Decision Tree (Baseline)\", X_train_scaled, y_train, X_test_scaled, y_test)"
   ]
  },
  {
   "cell_type": "code",
   "execution_count": 28,
   "id": "c525cb38-da45-4dcb-83ba-e3bd8b10f491",
   "metadata": {},
   "outputs": [
    {
     "name": "stdout",
     "output_type": "stream",
     "text": [
      "Explicit Bagging (100 Decision Trees) - RMSE: 0.5057, R2: 0.8048, Training Time: 6.05s\n",
      "Out-of-bag score: 0.8071\n"
     ]
    }
   ],
   "source": [
    "# Explicit Bagging with Decision Trees\n",
    "bagging = BaggingRegressor(\n",
    "    estimator=DecisionTreeRegressor(random_state=42),\n",
    "    n_estimators=100,\n",
    "    random_state=42,\n",
    "    bootstrap=True,  # Enable bootstrapping (sampling with replacement)\n",
    "    oob_score=True,  # Use out-of-bag samples to estimate the generalization score\n",
    "    n_jobs=-1  # Use all available processors\n",
    ")\n",
    "bagging_model = evaluate_model(bagging, \"Explicit Bagging (100 Decision Trees)\", \n",
    "                               X_train_scaled, y_train, X_test_scaled, y_test)\n",
    "print(f\"Out-of-bag score: {bagging.oob_score_:.4f}\")"
   ]
  },
  {
   "cell_type": "code",
   "execution_count": 26,
   "id": "d1db782c-df95-47c3-8872-724421d02425",
   "metadata": {},
   "outputs": [
    {
     "name": "stdout",
     "output_type": "stream",
     "text": [
      "Random Forest - RMSE: 0.5051, R2: 0.8053, Training Time: 2.33s\n"
     ]
    }
   ],
   "source": [
    "# Random Forest (an implementation of bagging with decision trees and feature randomization)\n",
    "rf = RandomForestRegressor(n_estimators=100, random_state=42, n_jobs=-1)\n",
    "rf_model = evaluate_model(rf, \"Random Forest\", X_train_scaled, y_train, X_test_scaled, y_test)"
   ]
  },
  {
   "cell_type": "markdown",
   "id": "e115af59-8042-4147-80c5-8f523c72d879",
   "metadata": {},
   "source": [
    "## Boosting\n",
    "\n",
    "- Builds models sequentially where each model focuses on correcting errors from previous models\n",
    "\n",
    "Implemented using:\n",
    "- AdaBoostRegressor (adaptive boosting)\n",
    "- GradientBoostingRegressor (gradient boosting)\n",
    "\n",
    "**Purpose**: Reduces bias and improves predictive accuracy by focusing on difficult cases"
   ]
  },
  {
   "cell_type": "code",
   "execution_count": 30,
   "id": "6ea693f0-7757-4c3c-ad9d-7bb40092bb82",
   "metadata": {},
   "outputs": [
    {
     "name": "stdout",
     "output_type": "stream",
     "text": [
      "\n",
      "2. BOOSTING METHODS\n",
      "Boosting builds models sequentially, with each model focusing on the errors of the previous one\n",
      "to reduce bias and improve predictive accuracy.\n",
      "--------------------------------------------------\n"
     ]
    }
   ],
   "source": [
    "# -------------------------------------------------\n",
    "# 2. BOOSTING METHODS\n",
    "# -------------------------------------------------\n",
    "print(\"\\n2. BOOSTING METHODS\")\n",
    "print(\"Boosting builds models sequentially, with each model focusing on the errors of the previous one\")\n",
    "print(\"to reduce bias and improve predictive accuracy.\")\n",
    "print(\"-\" * 50)"
   ]
  },
  {
   "cell_type": "code",
   "execution_count": 34,
   "id": "3e2dac4b-ef89-4e98-b477-fcaee614a1b8",
   "metadata": {},
   "outputs": [
    {
     "name": "stdout",
     "output_type": "stream",
     "text": [
      "AdaBoost - RMSE: 0.6945, R2: 0.6320, Training Time: 4.19s\n"
     ]
    }
   ],
   "source": [
    "# AdaBoost\n",
    "ada = AdaBoostRegressor(\n",
    "    estimator=DecisionTreeRegressor(max_depth=4),\n",
    "    n_estimators=100,\n",
    "    random_state=42,\n",
    "    learning_rate=0.1\n",
    ")\n",
    "ada_model = evaluate_model(ada, \"AdaBoost\", X_train_scaled, y_train, X_test_scaled, y_test)"
   ]
  },
  {
   "cell_type": "code",
   "execution_count": 36,
   "id": "cba12aef-3e9c-40ec-8b43-bce52617d5ae",
   "metadata": {},
   "outputs": [
    {
     "name": "stdout",
     "output_type": "stream",
     "text": [
      "Gradient Boosting - RMSE: 0.5139, R2: 0.7985, Training Time: 4.20s\n"
     ]
    }
   ],
   "source": [
    "# Gradient Boosting\n",
    "gb = GradientBoostingRegressor(\n",
    "    n_estimators=100,\n",
    "    learning_rate=0.1,\n",
    "    max_depth=4,\n",
    "    random_state=42,\n",
    "    subsample=0.8  # Use 80% of samples for each boosting stage\n",
    ")\n",
    "gb_model = evaluate_model(gb, \"Gradient Boosting\", X_train_scaled, y_train, X_test_scaled, y_test)"
   ]
  },
  {
   "cell_type": "markdown",
   "id": "9aa03b92-9de4-49ca-a0fc-d9c156711337",
   "metadata": {},
   "source": [
    "## Stacking\n",
    "\n",
    "- Combines predictions from multiple \"base models\" using another \"meta-model\"\n",
    "\n",
    "Implemented using StackingRegressor with:\n",
    "- Base models: Decision Tree, Random Forest, and Gradient Boosting\n",
    "- Meta-model: Linear Regression\n",
    "\n",
    "**Purpose**: Leverages strengths of diverse algorithms for better overall performance"
   ]
  },
  {
   "cell_type": "code",
   "execution_count": 38,
   "id": "8e161c82-5be9-432d-90cd-947a08b5ab06",
   "metadata": {},
   "outputs": [
    {
     "name": "stdout",
     "output_type": "stream",
     "text": [
      "\n",
      "3. STACKING\n",
      "Stacking combines predictions from multiple models (base models)\n",
      "using another model (meta-model) to make final predictions.\n",
      "--------------------------------------------------\n"
     ]
    }
   ],
   "source": [
    "# -------------------------------------------------\n",
    "# 3. STACKING\n",
    "# -------------------------------------------------\n",
    "print(\"\\n3. STACKING\")\n",
    "print(\"Stacking combines predictions from multiple models (base models)\")\n",
    "print(\"using another model (meta-model) to make final predictions.\")\n",
    "print(\"-\" * 50)"
   ]
  },
  {
   "cell_type": "code",
   "execution_count": 40,
   "id": "7f52d548-ce8b-4649-b259-63a10826d453",
   "metadata": {},
   "outputs": [
    {
     "name": "stdout",
     "output_type": "stream",
     "text": [
      "Stacking Ensemble - RMSE: 0.5063, R2: 0.8043, Training Time: 17.01s\n"
     ]
    }
   ],
   "source": [
    "# Define base models for stacking\n",
    "base_models = [\n",
    "    ('dt', DecisionTreeRegressor(random_state=42)),\n",
    "    ('rf', RandomForestRegressor(n_estimators=50, random_state=42, n_jobs=-1)),\n",
    "    ('gb', GradientBoostingRegressor(n_estimators=50, random_state=42))\n",
    "]\n",
    "\n",
    "# Define meta-model\n",
    "meta_model = LinearRegression()\n",
    "\n",
    "# Create stacking ensemble\n",
    "stacking = StackingRegressor(\n",
    "    estimators=base_models,\n",
    "    final_estimator=meta_model,\n",
    "    cv=5  # 5-fold cross-validation for base model predictions\n",
    ")\n",
    "stacking_model = evaluate_model(stacking, \"Stacking Ensemble\", X_train_scaled, y_train, X_test_scaled, y_test)"
   ]
  },
  {
   "cell_type": "markdown",
   "id": "c59cf44c-fded-4ad6-bc5e-91f111eeb912",
   "metadata": {},
   "source": [
    "## Model performance\n",
    "\n",
    "Visualization of model performance metrics (RMSE and R²) and a feature importance analysis for models that support it. "
   ]
  },
  {
   "cell_type": "code",
   "execution_count": 42,
   "id": "e75a198e-da9c-47a8-8c86-7512c3d5f80c",
   "metadata": {},
   "outputs": [
    {
     "name": "stdout",
     "output_type": "stream",
     "text": [
      "\n",
      "COMPARATIVE ANALYSIS\n",
      "--------------------------------------------------\n",
      "Best performing model: Random Forest, RMSE: 0.5051\n"
     ]
    }
   ],
   "source": [
    "# -------------------------------------------------\n",
    "# COMPARATIVE ANALYSIS\n",
    "# -------------------------------------------------\n",
    "print(\"\\nCOMPARATIVE ANALYSIS\")\n",
    "print(\"-\" * 50)\n",
    "\n",
    "# Sort models by performance (RMSE)\n",
    "sorted_results = sorted(results.items(), key=lambda x: x[1]['RMSE'])\n",
    "best_model_name = sorted_results[0][0]\n",
    "print(f\"Best performing model: {best_model_name}, RMSE: {sorted_results[0][1]['RMSE']:.4f}\")"
   ]
  },
  {
   "cell_type": "code",
   "execution_count": 44,
   "id": "b3dfc45c-a02f-4a93-aa70-4e5af03aff3d",
   "metadata": {},
   "outputs": [],
   "source": [
    "# Visualize results\n",
    "models = list(results.keys())\n",
    "rmse_values = [results[model]['RMSE'] for model in models]\n",
    "r2_values = [results[model]['R2'] for model in models]\n",
    "training_times = [results[model]['Training Time'] for model in models]"
   ]
  },
  {
   "cell_type": "code",
   "execution_count": 50,
   "id": "a9b37123-c972-4f95-83dc-0e9a545cdf4e",
   "metadata": {},
   "outputs": [
    {
     "data": {
      "image/png": "[encoded data removed]",
      "text/plain": [
       "<Figure size 1400x800 with 2 Axes>"
      ]
     },
     "metadata": {},
     "output_type": "display_data"
    }
   ],
   "source": [
    "# Plot RMSE comparison\n",
    "plt.figure(figsize=(14, 8))\n",
    "plt.subplot(2, 1, 1)\n",
    "bars = plt.bar(models, rmse_values, color='skyblue')\n",
    "plt.ylabel('RMSE (lower is better)')\n",
    "plt.title('Model Comparison - RMSE')\n",
    "plt.xticks(rotation=45, ha='right')\n",
    "for bar, value in zip(bars, rmse_values):\n",
    "    plt.text(bar.get_x() + bar.get_width()/2, \n",
    "             bar.get_height() + 0.01,\n",
    "             f'{value:.4f}', \n",
    "             ha='center', va='bottom', rotation=0)\n",
    "\n",
    "# Plot R² comparison\n",
    "plt.subplot(2, 1, 2)\n",
    "bars = plt.bar(models, r2_values, color='lightgreen')\n",
    "plt.ylabel('R² Score (higher is better)')\n",
    "plt.title('Model Comparison - R² Score')\n",
    "plt.xticks(rotation=45, ha='right')\n",
    "for bar, value in zip(bars, r2_values):\n",
    "    plt.text(bar.get_x() + bar.get_width()/2, \n",
    "             bar.get_height() + 0.01,\n",
    "             f'{value:.4f}', \n",
    "             ha='center', va='bottom', rotation=0)\n",
    "\n",
    "plt.tight_layout()\n",
    "plt.savefig('ensemble_comparison.png')\n",
    "plt.show()"
   ]
  },
  {
   "cell_type": "code",
   "execution_count": 52,
   "id": "795c2631-dde5-4e28-9211-13a8b597747a",
   "metadata": {},
   "outputs": [
    {
     "name": "stdout",
     "output_type": "stream",
     "text": [
      "\n",
      "FEATURE IMPORTANCE ANALYSIS\n",
      "--------------------------------------------------\n",
      "Feature ranking (Random Forest):\n",
      "1. MedInc (0.5249)\n",
      "2. AveOccup (0.1384)\n",
      "3. Latitude (0.0889)\n",
      "4. Longitude (0.0886)\n",
      "5. HouseAge (0.0546)\n",
      "6. AveRooms (0.0443)\n",
      "7. Population (0.0306)\n",
      "8. AveBedrms (0.0296)\n"
     ]
    },
    {
     "data": {
      "image/png": "[encoded data removed]",
      "text/plain": [
       "<Figure size 1000x600 with 1 Axes>"
      ]
     },
     "metadata": {},
     "output_type": "display_data"
    }
   ],
   "source": [
    "# -------------------------------------------------\n",
    "# Feature importance analysis (for models that support it)\n",
    "# -------------------------------------------------\n",
    "print(\"\\nFEATURE IMPORTANCE ANALYSIS\")\n",
    "print(\"-\" * 50)\n",
    "\n",
    "if hasattr(rf_model, 'feature_importances_'):\n",
    "    # Get feature importances from Random Forest\n",
    "    importances = rf_model.feature_importances_\n",
    "    indices = np.argsort(importances)[::-1]\n",
    "    \n",
    "    # Print feature ranking\n",
    "    print(\"Feature ranking (Random Forest):\")\n",
    "    for f in range(X.shape[1]):\n",
    "        print(f\"{f+1}. {X.columns[indices[f]]} ({importances[indices[f]]:.4f})\")\n",
    "    \n",
    "    # Plot feature importances\n",
    "    plt.figure(figsize=(10, 6))\n",
    "    plt.title(\"Feature Importances (Random Forest)\")\n",
    "    plt.bar(range(X.shape[1]), importances[indices], align=\"center\")\n",
    "    plt.xticks(range(X.shape[1]), [X.columns[i] for i in indices], rotation=90)\n",
    "    plt.tight_layout()\n",
    "    plt.savefig('feature_importance.png')\n",
    "    plt.show()"
   ]
  },
  {
   "cell_type": "code",
   "execution_count": 54,
   "id": "5f7426ef-b846-45fa-955b-34afd6115dff",
   "metadata": {},
   "outputs": [
    {
     "name": "stdout",
     "output_type": "stream",
     "text": [
      "\n",
      "SUMMARY OF ENSEMBLE METHODS\n",
      "--------------------------------------------------\n",
      "\n",
      "BAGGING (Bootstrap Aggregating):\n",
      "- Builds multiple independent models in parallel on random subsets of data\n",
      "- Combines results by averaging (regression) or voting (classification)\n",
      "- Reduces variance and helps prevent overfitting\n",
      "- Examples: Random Forest, Bagging Classifier/Regressor\n",
      "\n",
      "BOOSTING:\n",
      "- Builds models sequentially, each focusing on the errors of previous models\n",
      "- Gives higher weight to misclassified instances\n",
      "- Reduces bias and gradually improves accuracy\n",
      "- Examples: AdaBoost, Gradient Boosting, XGBoost\n",
      "\n",
      "STACKING:\n",
      "- Combines predictions from different models using a meta-model\n",
      "- Base models are trained on the original dataset\n",
      "- Meta-model is trained on the predictions of base models\n",
      "- Leverages strengths of diverse algorithms\n",
      "- Example: Stacking Classifier/Regressor\n",
      "\n"
     ]
    }
   ],
   "source": [
    "# -------------------------------------------------\n",
    "# SUMMARY OF ENSEMBLE METHODS\n",
    "# -------------------------------------------------\n",
    "print(\"\\nSUMMARY OF ENSEMBLE METHODS\")\n",
    "print(\"-\" * 50)\n",
    "print(\"\"\"\n",
    "BAGGING (Bootstrap Aggregating):\n",
    "- Builds multiple independent models in parallel on random subsets of data\n",
    "- Combines results by averaging (regression) or voting (classification)\n",
    "- Reduces variance and helps prevent overfitting\n",
    "- Examples: Random Forest, Bagging Classifier/Regressor\n",
    "\n",
    "BOOSTING:\n",
    "- Builds models sequentially, each focusing on the errors of previous models\n",
    "- Gives higher weight to misclassified instances\n",
    "- Reduces bias and gradually improves accuracy\n",
    "- Examples: AdaBoost, Gradient Boosting, XGBoost\n",
    "\n",
    "STACKING:\n",
    "- Combines predictions from different models using a meta-model\n",
    "- Base models are trained on the original dataset\n",
    "- Meta-model is trained on the predictions of base models\n",
    "- Leverages strengths of diverse algorithms\n",
    "- Example: Stacking Classifier/Regressor\n",
    "\"\"\")"
   ]
  },
  {
   "cell_type": "code",
   "execution_count": null,
   "id": "449c1206-05b8-4507-93c5-504c8d5e112f",
   "metadata": {},
   "outputs": [],
   "source": []
  }
 ],
 "metadata": {
  "kernelspec": {
   "display_name": "Python 3 (ipykernel)",
   "language": "python",
   "name": "python3"
  },
  "language_info": {
   "codemirror_mode": {
    "name": "ipython",
    "version": 3
   },
   "file_extension": ".py",
   "mimetype": "text/x-python",
   "name": "python",
   "nbconvert_exporter": "python",
   "pygments_lexer": "ipython3",
   "version": "3.12.4"
  }
 },
 "nbformat": 4,
 "nbformat_minor": 5
}
