{
 "cells": [
  {
   "cell_type": "markdown",
   "id": "69a99d6e",
   "metadata": {},
   "source": [
    "# Introduction to Python Programming\n",
    "## Your First Steps in Python Programming\n",
    "\n",
    "Welcome to Python! This notebook will guide you through your first steps in programming with Python. We'll cover the basics and some essential libraries that make Python powerful for data analysis and visualization.\n",
    "\n",
    "### Setting Up Your Environment\n",
    "\n",
    "First, let's install some important packages we'll need. \n",
    "\n",
    "In Jupyter, you can run system commands by starting the line with an exclamation mark (!).\n",
    "\n",
    "To install a single package use\n",
    "\n",
    "```python\n",
    "!pip install package_name\n",
    "```\n",
    "\n",
    "To install several packages at once use\n",
    "\n",
    "```python\n",
    "!pip install package1 package2 package3\n",
    "```"
   ]
  },
  {
   "cell_type": "code",
   "execution_count": 4,
   "id": "07af3cb2",
   "metadata": {},
   "outputs": [
    {
     "name": "stdout",
     "output_type": "stream",
     "text": [
      "Requirement already satisfied: pandas in c:\\users\\vitali\\anaconda3\\lib\\site-packages (2.2.2)\n",
      "Requirement already satisfied: numpy in c:\\users\\vitali\\anaconda3\\lib\\site-packages (1.26.4)\n",
      "Requirement already satisfied: matplotlib in c:\\users\\vitali\\anaconda3\\lib\\site-packages (3.8.4)\n",
      "Requirement already satisfied: seaborn in c:\\users\\vitali\\anaconda3\\lib\\site-packages (0.13.2)\n",
      "Requirement already satisfied: python-dateutil>=2.8.2 in c:\\users\\vitali\\anaconda3\\lib\\site-packages (from pandas) (2.9.0.post0)\n",
      "Requirement already satisfied: pytz>=2020.1 in c:\\users\\vitali\\anaconda3\\lib\\site-packages (from pandas) (2024.1)\n",
      "Requirement already satisfied: tzdata>=2022.7 in c:\\users\\vitali\\anaconda3\\lib\\site-packages (from pandas) (2023.3)\n",
      "Requirement already satisfied: contourpy>=1.0.1 in c:\\users\\vitali\\anaconda3\\lib\\site-packages (from matplotlib) (1.2.0)\n",
      "Requirement already satisfied: cycler>=0.10 in c:\\users\\vitali\\anaconda3\\lib\\site-packages (from matplotlib) (0.11.0)\n",
      "Requirement already satisfied: fonttools>=4.22.0 in c:\\users\\vitali\\anaconda3\\lib\\site-packages (from matplotlib) (4.51.0)\n",
      "Requirement already satisfied: kiwisolver>=1.3.1 in c:\\users\\vitali\\anaconda3\\lib\\site-packages (from matplotlib) (1.4.4)\n",
      "Requirement already satisfied: packaging>=20.0 in c:\\users\\vitali\\anaconda3\\lib\\site-packages (from matplotlib) (24.1)\n",
      "Requirement already satisfied: pillow>=8 in c:\\users\\vitali\\anaconda3\\lib\\site-packages (from matplotlib) (10.3.0)\n",
      "Requirement already satisfied: pyparsing>=2.3.1 in c:\\users\\vitali\\anaconda3\\lib\\site-packages (from matplotlib) (3.0.9)\n",
      "Requirement already satisfied: six>=1.5 in c:\\users\\vitali\\anaconda3\\lib\\site-packages (from python-dateutil>=2.8.2->pandas) (1.16.0)\n"
     ]
    }
   ],
   "source": [
    "# Install required packages\n",
    "!pip install pandas numpy matplotlib seaborn"
   ]
  },
  {
   "cell_type": "markdown",
   "id": "565e7e47",
   "metadata": {},
   "source": [
    "### Importing Libraries\n",
    "In Python, we use libraries (also called packages or modules) to extend Python's functionality. Here's how to import them:"
   ]
  },
  {
   "cell_type": "code",
   "execution_count": 6,
   "id": "9c58a4b8",
   "metadata": {},
   "outputs": [],
   "source": [
    "# Basic scientific computing libraries\n",
    "import numpy as np  # For numerical operations\n",
    "import pandas as pd  # For data manipulation\n",
    "import matplotlib.pyplot as plt  # For plotting\n",
    "import seaborn as sns  # For statistical visualizations\n",
    "\n",
    "# Make plots appear in the notebook\n",
    "%matplotlib inline"
   ]
  },
  {
   "cell_type": "markdown",
   "id": "6012b6ae",
   "metadata": {},
   "source": [
    "### Basic Python Operations\n",
    "\n",
    "#### Variables and Data Types\n",
    "Python has several basic data types. Let's explore them:"
   ]
  },
  {
   "cell_type": "code",
   "execution_count": 9,
   "id": "585d43d8",
   "metadata": {},
   "outputs": [
    {
     "name": "stdout",
     "output_type": "stream",
     "text": [
      "Integer: 42\n",
      "Float: 3.14\n",
      "Text: Hello, Python!\n",
      "Boolean: True\n"
     ]
    }
   ],
   "source": [
    "# Numbers\n",
    "integer_number = 42\n",
    "float_number = 3.14\n",
    "\n",
    "# Strings (text)\n",
    "text = \"Hello, Python!\"\n",
    "another_text = 'Single quotes work too'\n",
    "\n",
    "# Boolean (True/False)\n",
    "is_python_fun = True\n",
    "\n",
    "# Print variables\n",
    "print(f\"Integer: {integer_number}\")\n",
    "print(f\"Float: {float_number}\")\n",
    "print(f\"Text: {text}\")\n",
    "print(f\"Boolean: {is_python_fun}\")"
   ]
  },
  {
   "cell_type": "markdown",
   "id": "acc6edaa",
   "metadata": {},
   "source": [
    "#### Lists\n",
    "Lists are ordered collections of items:"
   ]
  },
  {
   "cell_type": "code",
   "execution_count": 12,
   "id": "6bfdc291",
   "metadata": {},
   "outputs": [
    {
     "name": "stdout",
     "output_type": "stream",
     "text": [
      "All fruits: ['apple', 'banana', 'orange', 'grape']\n",
      "First fruit: apple\n"
     ]
    }
   ],
   "source": [
    "# Create a list\n",
    "fruits = [\"apple\", \"banana\", \"orange\"]\n",
    "\n",
    "# Add an item to the list\n",
    "fruits.append(\"grape\")\n",
    "\n",
    "# Access items (remember: Python starts counting at 0!)\n",
    "first_fruit = fruits[0]  # Gets \"apple\"\n",
    "\n",
    "print(f\"All fruits: {fruits}\")\n",
    "print(f\"First fruit: {first_fruit}\")"
   ]
  },
  {
   "cell_type": "markdown",
   "id": "fbd6b455",
   "metadata": {},
   "source": [
    "#### Basic Math Operations"
   ]
  },
  {
   "cell_type": "code",
   "execution_count": 14,
   "id": "2d815264",
   "metadata": {},
   "outputs": [
    {
     "name": "stdout",
     "output_type": "stream",
     "text": [
      "Addition: 13\n",
      "Subtraction: 7\n",
      "Multiplication: 30\n",
      "Division: 3.3333333333333335\n",
      "Integer division: 3\n",
      "Remainder: 1\n",
      "Power: 100\n"
     ]
    }
   ],
   "source": [
    "# Basic arithmetic\n",
    "a = 10\n",
    "b = 3\n",
    "\n",
    "addition = a + b\n",
    "subtraction = a - b\n",
    "multiplication = a * b\n",
    "division = a / b\n",
    "integer_division = a // b  # Drops decimal part\n",
    "remainder = a % b  # Modulo (remainder)\n",
    "power = a ** 2  # Square of a\n",
    "\n",
    "print(f\"Addition: {addition}\")\n",
    "print(f\"Subtraction: {subtraction}\")\n",
    "print(f\"Multiplication: {multiplication}\")\n",
    "print(f\"Division: {division}\")\n",
    "print(f\"Integer division: {integer_division}\")\n",
    "print(f\"Remainder: {remainder}\")\n",
    "print(f\"Power: {power}\")"
   ]
  },
  {
   "cell_type": "markdown",
   "id": "d6810513",
   "metadata": {},
   "source": [
    "### Working with Pandas\n",
    "Pandas is great for working with data:"
   ]
  },
  {
   "cell_type": "code",
   "execution_count": 22,
   "id": "77ad9342",
   "metadata": {},
   "outputs": [
    {
     "name": "stdout",
     "output_type": "stream",
     "text": [
      "Our DataFrame:\n"
     ]
    },
    {
     "data": {
      "text/html": [
       "<div>\n",
       "<style scoped>\n",
       "    .dataframe tbody tr th:only-of-type {\n",
       "        vertical-align: middle;\n",
       "    }\n",
       "\n",
       "    .dataframe tbody tr th {\n",
       "        vertical-align: top;\n",
       "    }\n",
       "\n",
       "    .dataframe thead th {\n",
       "        text-align: right;\n",
       "    }\n",
       "</style>\n",
       "<table border=\"1\" class=\"dataframe\">\n",
       "  <thead>\n",
       "    <tr style=\"text-align: right;\">\n",
       "      <th></th>\n",
       "      <th>Name</th>\n",
       "      <th>Age</th>\n",
       "      <th>City</th>\n",
       "    </tr>\n",
       "  </thead>\n",
       "  <tbody>\n",
       "    <tr>\n",
       "      <th>0</th>\n",
       "      <td>Alice</td>\n",
       "      <td>25</td>\n",
       "      <td>New York</td>\n",
       "    </tr>\n",
       "    <tr>\n",
       "      <th>1</th>\n",
       "      <td>Bob</td>\n",
       "      <td>30</td>\n",
       "      <td>San Francisco</td>\n",
       "    </tr>\n",
       "    <tr>\n",
       "      <th>2</th>\n",
       "      <td>Charlie</td>\n",
       "      <td>35</td>\n",
       "      <td>Chicago</td>\n",
       "    </tr>\n",
       "  </tbody>\n",
       "</table>\n",
       "</div>"
      ],
      "text/plain": [
       "      Name  Age           City\n",
       "0    Alice   25       New York\n",
       "1      Bob   30  San Francisco\n",
       "2  Charlie   35        Chicago"
      ]
     },
     "metadata": {},
     "output_type": "display_data"
    },
    {
     "name": "stdout",
     "output_type": "stream",
     "text": [
      "\n",
      "First two rows:\n",
      "    Name  Age           City\n",
      "0  Alice   25       New York\n",
      "1    Bob   30  San Francisco\n",
      "\n",
      "DataFrame info:\n",
      "<class 'pandas.core.frame.DataFrame'>\n",
      "RangeIndex: 3 entries, 0 to 2\n",
      "Data columns (total 3 columns):\n",
      " #   Column  Non-Null Count  Dtype \n",
      "---  ------  --------------  ----- \n",
      " 0   Name    3 non-null      object\n",
      " 1   Age     3 non-null      int64 \n",
      " 2   City    3 non-null      object\n",
      "dtypes: int64(1), object(2)\n",
      "memory usage: 204.0+ bytes\n",
      "None\n"
     ]
    }
   ],
   "source": [
    "# Create a simple DataFrame\n",
    "data = {\n",
    "    'Name': ['Alice', 'Bob', 'Charlie'],\n",
    "    'Age': [25, 30, 35],\n",
    "    'City': ['New York', 'San Francisco', 'Chicago']\n",
    "}\n",
    "\n",
    "df = pd.DataFrame(data)\n",
    "\n",
    "# Display the DataFrame\n",
    "print(\"Our DataFrame:\")\n",
    "display(df)\n",
    "\n",
    "# Basic DataFrame operations\n",
    "print(\"\\nFirst two rows:\")\n",
    "print(df.head(2))\n",
    "\n",
    "print(\"\\nDataFrame info:\")\n",
    "print(df.info())"
   ]
  },
  {
   "cell_type": "markdown",
   "id": "c83459c7",
   "metadata": {},
   "source": [
    "### Creating Visualizations\n",
    "Let's create some basic plots:"
   ]
  },
  {
   "cell_type": "code",
   "execution_count": 25,
   "id": "4ee7676e",
   "metadata": {},
   "outputs": [
    {
     "data": {
      "image/png": "[encoded data removed]",
      "text/plain": [
       "<Figure size 1000x600 with 1 Axes>"
      ]
     },
     "metadata": {},
     "output_type": "display_data"
    },
    {
     "data": {
      "image/png": "[encoded data removed]",
      "text/plain": [
       "<Figure size 800x600 with 1 Axes>"
      ]
     },
     "metadata": {},
     "output_type": "display_data"
    }
   ],
   "source": [
    "# Create sample data\n",
    "x = np.linspace(0, 10, 100)\n",
    "y = np.sin(x)\n",
    "\n",
    "# Create a line plot\n",
    "plt.figure(figsize=(10, 6))\n",
    "plt.plot(x, y, label='sin(x)')\n",
    "plt.title('Simple Line Plot')\n",
    "plt.xlabel('x')\n",
    "plt.ylabel('sin(x)')\n",
    "plt.legend()\n",
    "plt.grid(True)\n",
    "plt.show()\n",
    "\n",
    "# Create a bar plot with pandas\n",
    "data = {'A': 3, 'B': 7, 'C': 2, 'D': 9}\n",
    "plt.figure(figsize=(8, 6))\n",
    "plt.bar(data.keys(), data.values())\n",
    "plt.title('Simple Bar Plot')\n",
    "plt.xlabel('Categories')\n",
    "plt.ylabel('Values')\n",
    "plt.show()"
   ]
  },
  {
   "cell_type": "markdown",
   "id": "66f6ce8c",
   "metadata": {},
   "source": [
    "### Conditional Statements (if/else)"
   ]
  },
  {
   "cell_type": "code",
   "execution_count": 28,
   "id": "74cd7e0e",
   "metadata": {},
   "outputs": [
    {
     "name": "stdout",
     "output_type": "stream",
     "text": [
      "You are an adult\n"
     ]
    }
   ],
   "source": [
    "# Basic if/else structure\n",
    "age = 18\n",
    "\n",
    "if age >= 18:\n",
    "    print(\"You are an adult\")\n",
    "elif age >= 13:\n",
    "    print(\"You are a teenager\")\n",
    "else:\n",
    "    print(\"You are a child\")"
   ]
  },
  {
   "cell_type": "markdown",
   "id": "ace396bf",
   "metadata": {},
   "source": [
    "### Loops\n",
    "Python has two main types of loops:"
   ]
  },
  {
   "cell_type": "code",
   "execution_count": 31,
   "id": "3624b798",
   "metadata": {},
   "outputs": [
    {
     "name": "stdout",
     "output_type": "stream",
     "text": [
      "For loop example:\n",
      "Number: 0\n",
      "Number: 1\n",
      "Number: 2\n",
      "Number: 3\n",
      "Number: 4\n",
      "\n",
      "While loop example:\n",
      "Count is: 0\n",
      "Count is: 1\n",
      "Count is: 2\n"
     ]
    }
   ],
   "source": [
    "# For loop\n",
    "print(\"For loop example:\")\n",
    "for i in range(5):\n",
    "    print(f\"Number: {i}\")\n",
    "\n",
    "# While loop\n",
    "print(\"\\nWhile loop example:\")\n",
    "count = 0\n",
    "while count < 3:\n",
    "    print(f\"Count is: {count}\")\n",
    "    count += 1"
   ]
  },
  {
   "cell_type": "markdown",
   "id": "501ac5dc-af8a-44da-aaf9-1f24e4795a5c",
   "metadata": {},
   "source": [
    "### Functions\n",
    "Functions are reusable blocks of code that perform a specific task. They help us organize our code and avoid repetition. Think of functions like a recipe - you define the steps once and can use them again and again with different ingredients (inputs).\n",
    "\n",
    "#### Basic Function Structure\n",
    "\n",
    "```python\n",
    "def function_name(parameter1, parameter2):\n",
    "    # Code that does something\n",
    "    result = parameter1 + parameter2\n",
    "    return result  # Send back the result\n",
    "```"
   ]
  },
  {
   "cell_type": "code",
   "execution_count": 34,
   "id": "7f16381e-2850-4ed1-a604-99dd876459ee",
   "metadata": {},
   "outputs": [],
   "source": [
    "# Simple function that greets someone\n",
    "def greet(name):\n",
    "    return f\"Hello, {name}!\""
   ]
  },
  {
   "cell_type": "code",
   "execution_count": 36,
   "id": "447682ec-2eaa-4100-b247-b84f7941f744",
   "metadata": {},
   "outputs": [
    {
     "name": "stdout",
     "output_type": "stream",
     "text": [
      "Hello, Alice!\n",
      "Hello, Bob!\n"
     ]
    }
   ],
   "source": [
    "# Try the function\n",
    "print(greet(\"Alice\"))  # Prints: Hello, Alice!\n",
    "print(greet(\"Bob\"))    # Prints: Hello, Bob!"
   ]
  },
  {
   "cell_type": "code",
   "execution_count": 38,
   "id": "fc095904-c98d-4ea8-9967-9696f66d4f82",
   "metadata": {},
   "outputs": [],
   "source": [
    "# Function that adds two numbers\n",
    "def add_numbers(x, y):\n",
    "    sum = x + y\n",
    "    return sum"
   ]
  },
  {
   "cell_type": "code",
   "execution_count": 40,
   "id": "9ebe5839-dcc7-4376-92cb-b02c981a640b",
   "metadata": {},
   "outputs": [
    {
     "name": "stdout",
     "output_type": "stream",
     "text": [
      "5 + 3 = 8\n"
     ]
    }
   ],
   "source": [
    "# Try the function\n",
    "result = add_numbers(5, 3)\n",
    "print(f\"5 + 3 = {result}\")  # Prints: 5 + 3 = 8"
   ]
  },
  {
   "cell_type": "code",
   "execution_count": 42,
   "id": "218f007a-a1cb-44f4-94dc-e9dcb9f4d067",
   "metadata": {},
   "outputs": [],
   "source": [
    "# Function with multiple parameters and a default value\n",
    "def calculate_total(price, tax_rate=0.1):\n",
    "    tax = price * tax_rate\n",
    "    total = price + tax\n",
    "    return total"
   ]
  },
  {
   "cell_type": "code",
   "execution_count": 44,
   "id": "2c1447fb-2ae5-4e43-be0e-0b8938c30b1d",
   "metadata": {},
   "outputs": [
    {
     "name": "stdout",
     "output_type": "stream",
     "text": [
      "110.0\n",
      "120.0\n"
     ]
    }
   ],
   "source": [
    "# Try the function\n",
    "print(calculate_total(100))      # Uses default tax rate of 0.1\n",
    "print(calculate_total(100, 0.2)) # Uses specified tax rate of 0.2"
   ]
  },
  {
   "cell_type": "markdown",
   "id": "36b9bf95",
   "metadata": {},
   "source": [
    "## Exercise for Students\n",
    "Try these exercises to practice what you've learned:\n",
    "\n",
    "1. Create a list of numbers and calculate their average\n",
    "2. Create a DataFrame with student grades and visualize them using a bar plot\n",
    "3. Write a function that takes a temperature in Celsius and converts it to Fahrenheit\n",
    "4. Create a function `calculate_tax(annual_salary)` that  calculates the tax payable based on the [2024-25 ATO resident tax rates](https://www.ato.gov.au/tax-rates-and-codes/tax-rates-australian-residents). Hints:\n",
    "    - You'll need to use if/elif/else statements to check which tax bracket the salary falls into\n",
    "    - Remember to subtract the bracket threshold when calculating the excess amount\n",
    "    - Don't forget to add the base tax amount for higher brackets\n",
    "    - Consider using round() to format the final amount nicely\n",
    "    - Example output format:\n",
    "        - Annual Salary: \\$60,000\n",
    "        - Tax Payable: \\$11,067\n",
    "\n",
    "Here's a template to start with:"
   ]
  },
  {
   "cell_type": "code",
   "execution_count": null,
   "id": "d150ba3f",
   "metadata": {},
   "outputs": [],
   "source": [
    "# Exercise 1: Calculate average\n",
    "numbers = [10, 20, 30, 40, 50]\n",
    "# Your code here\n",
    "\n",
    "# Exercise 2: Student grades\n",
    "grades_data = {\n",
    "    'Student': ['Alice', 'Bob', 'Charlie', 'David'],\n",
    "    'Grade': [85, 92, 78, 95]\n",
    "}\n",
    "# Your code here\n",
    "\n",
    "# Exercise 3: Temperature converter\n",
    "def celsius_to_fahrenheit(celsius):\n",
    "    # Your code here\n",
    "    pass\n",
    "\n",
    "# Exercise 4: Tax\n",
    "def calculate_tax(annual_salary):\n",
    "    # Your code here\n",
    "    pass\n",
    "\n",
    "# Test your function\n",
    "test_salaries = [17000, 30000, 90000, 150000, 200000]\n",
    "for salary in test_salaries:\n",
    "    calculate_tax(salary)"
   ]
  },
  {
   "cell_type": "markdown",
   "id": "1582d4e4",
   "metadata": {},
   "source": [
    "### Next Steps\n",
    "After mastering these basics, you can explore:\n",
    "- Functions and object-oriented programming\n",
    "- File handling\n",
    "- More advanced data analysis with pandas\n",
    "- Statistical analysis\n",
    "- Machine learning with scikit-learn\n",
    "\n",
    "Remember: The best way to learn programming is by practicing. Try to modify the examples and create your own code!"
   ]
  }
 ],
 "metadata": {
  "jupytext": {
   "cell_metadata_filter": "-all",
   "main_language": "python",
   "notebook_metadata_filter": "-all"
  },
  "kernelspec": {
   "display_name": "Python 3 (ipykernel)",
   "language": "python",
   "name": "python3"
  },
  "language_info": {
   "codemirror_mode": {
    "name": "ipython",
    "version": 3
   },
   "file_extension": ".py",
   "mimetype": "text/x-python",
   "name": "python",
   "nbconvert_exporter": "python",
   "pygments_lexer": "ipython3",
   "version": "3.12.4"
  }
 },
 "nbformat": 4,
 "nbformat_minor": 5
}
